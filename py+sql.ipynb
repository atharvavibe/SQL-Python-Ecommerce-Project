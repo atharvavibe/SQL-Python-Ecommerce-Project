{
 "cells": [
  {
   "cell_type": "code",
   "execution_count": 15,
   "id": "98a7c278-6503-495c-8107-05bdad264440",
   "metadata": {},
   "outputs": [
    {
     "name": "stdout",
     "output_type": "stream",
     "text": [
      "Processing order_items.csv\n",
      "NaN values before replacement:\n",
      "order_id               0\n",
      "order_item_id          0\n",
      "product_id             0\n",
      "seller_id              0\n",
      "shipping_limit_date    0\n",
      "price                  0\n",
      "freight_value          0\n",
      "dtype: int64\n",
      "\n"
     ]
    }
   ],
   "source": [
    "import pandas as pd\n",
    "import mysql.connector\n",
    "import os\n",
    "\n",
    "# List of CSV files and their corresponding table names\n",
    "csv_files = [\n",
    "    ('order_items.csv', 'orders_items')# Added payments.csv for specific handling\n",
    "]\n",
    "\n",
    "# Connect to the MySQL database\n",
    "conn = mysql.connector.connect(\n",
    "    host='localhost',\n",
    "    user='root',\n",
    "    password='reebok292000',\n",
    "    database='ecommerce'\n",
    ")\n",
    "cursor = conn.cursor()\n",
    "\n",
    "# Folder containing the CSV files\n",
    "folder_path = '/Users/atharvavibhute/Desktop/Ecommerce'\n",
    "\n",
    "def get_sql_type(dtype):\n",
    "    if pd.api.types.is_integer_dtype(dtype):\n",
    "        return 'INT'\n",
    "    elif pd.api.types.is_float_dtype(dtype):\n",
    "        return 'FLOAT'\n",
    "    elif pd.api.types.is_bool_dtype(dtype):\n",
    "        return 'BOOLEAN'\n",
    "    elif pd.api.types.is_datetime64_any_dtype(dtype):\n",
    "        return 'DATETIME'\n",
    "    else:\n",
    "        return 'TEXT'\n",
    "\n",
    "for csv_file, table_name in csv_files:\n",
    "    file_path = os.path.join(folder_path, csv_file)\n",
    "    \n",
    "    # Read the CSV file into a pandas DataFrame\n",
    "    df = pd.read_csv(file_path)\n",
    "    \n",
    "    # Replace NaN with None to handle SQL NULL\n",
    "    df = df.where(pd.notnull(df), None)\n",
    "    \n",
    "    # Debugging: Check for NaN values\n",
    "    print(f\"Processing {csv_file}\")\n",
    "    print(f\"NaN values before replacement:\\n{df.isnull().sum()}\\n\")\n",
    "\n",
    "    # Clean column names\n",
    "    df.columns = [col.replace(' ', '_').replace('-', '_').replace('.', '_') for col in df.columns]\n",
    "\n",
    "    # Generate the CREATE TABLE statement with appropriate data types\n",
    "    columns = ', '.join([f'`{col}` {get_sql_type(df[col].dtype)}' for col in df.columns])\n",
    "    create_table_query = f'CREATE TABLE IF NOT EXISTS `{table_name}` ({columns})'\n",
    "    cursor.execute(create_table_query)\n",
    "\n",
    "    # Insert DataFrame data into the MySQL table\n",
    "    for _, row in df.iterrows():\n",
    "        # Convert row to tuple and handle NaN/None explicitly\n",
    "        values = tuple(None if pd.isna(x) else x for x in row)\n",
    "        sql = f\"INSERT INTO `{table_name}` ({', '.join(['`' + col + '`' for col in df.columns])}) VALUES ({', '.join(['%s'] * len(row))})\"\n",
    "        cursor.execute(sql, values)\n",
    "\n",
    "    # Commit the transaction for the current CSV file\n",
    "    conn.commit()\n",
    "\n",
    "# Close the connection\n",
    "conn.close()"
   ]
  },
  {
   "cell_type": "code",
   "execution_count": 17,
   "id": "d8a53a56-0c05-4a0b-9c98-e4d5a0787a10",
   "metadata": {},
   "outputs": [
    {
     "name": "stderr",
     "output_type": "stream",
     "text": [
      "Matplotlib is building the font cache; this may take a moment.\n"
     ]
    }
   ],
   "source": [
    "import pandas as pd\n",
    "import matplotlib.pyplot as plt\n",
    "import mysql.connector\n",
    "import seaborn as sns\n",
    "\n",
    "# Connect to the MySQL database\n",
    "db = mysql.connector.connect(\n",
    "    host='localhost',\n",
    "    user='root',\n",
    "    password='reebok292000',\n",
    "    database='ecommerce'\n",
    ")\n",
    "\n",
    "cur = db.cursor()"
   ]
  },
  {
   "cell_type": "markdown",
   "id": "ab8aa83b-41c7-49c8-afa1-8c5d78f0fd21",
   "metadata": {},
   "source": [
    "# List all unique cities where customers are located."
   ]
  },
  {
   "cell_type": "code",
   "execution_count": 53,
   "id": "c42bd340-d9e2-4979-8381-402e7e2305fe",
   "metadata": {},
   "outputs": [
    {
     "data": {
      "text/html": [
       "<div>\n",
       "<style scoped>\n",
       "    .dataframe tbody tr th:only-of-type {\n",
       "        vertical-align: middle;\n",
       "    }\n",
       "\n",
       "    .dataframe tbody tr th {\n",
       "        vertical-align: top;\n",
       "    }\n",
       "\n",
       "    .dataframe thead th {\n",
       "        text-align: right;\n",
       "    }\n",
       "</style>\n",
       "<table border=\"1\" class=\"dataframe\">\n",
       "  <thead>\n",
       "    <tr style=\"text-align: right;\">\n",
       "      <th></th>\n",
       "      <th>0</th>\n",
       "    </tr>\n",
       "  </thead>\n",
       "  <tbody>\n",
       "    <tr>\n",
       "      <th>0</th>\n",
       "      <td>franca</td>\n",
       "    </tr>\n",
       "    <tr>\n",
       "      <th>1</th>\n",
       "      <td>sao bernardo do campo</td>\n",
       "    </tr>\n",
       "    <tr>\n",
       "      <th>2</th>\n",
       "      <td>sao paulo</td>\n",
       "    </tr>\n",
       "    <tr>\n",
       "      <th>3</th>\n",
       "      <td>mogi das cruzes</td>\n",
       "    </tr>\n",
       "    <tr>\n",
       "      <th>4</th>\n",
       "      <td>campinas</td>\n",
       "    </tr>\n",
       "  </tbody>\n",
       "</table>\n",
       "</div>"
      ],
      "text/plain": [
       "                       0\n",
       "0                 franca\n",
       "1  sao bernardo do campo\n",
       "2              sao paulo\n",
       "3        mogi das cruzes\n",
       "4               campinas"
      ]
     },
     "execution_count": 53,
     "metadata": {},
     "output_type": "execute_result"
    }
   ],
   "source": [
    "query = \"\"\" select distinct (customer_city) from customers\"\"\"\n",
    "cur.execute(query)\n",
    "data = cur.fetchall()\n",
    "#data\n",
    "df = pd.DataFrame(data)\n",
    "df.head()"
   ]
  },
  {
   "cell_type": "markdown",
   "id": "5fc604db-016a-407b-86dd-4a83e9dd0ca4",
   "metadata": {},
   "source": [
    "# Count the number of orders placed in 2017."
   ]
  },
  {
   "cell_type": "code",
   "execution_count": 23,
   "id": "ff266ed9-0866-4c3e-ab3e-df3564d143a3",
   "metadata": {},
   "outputs": [
    {
     "data": {
      "text/plain": [
       "[(45101,)]"
      ]
     },
     "execution_count": 23,
     "metadata": {},
     "output_type": "execute_result"
    }
   ],
   "source": [
    "query = \"\"\"select count(order_id) from orders where order_purchase_timestamp like '%2017%'\"\"\"\n",
    "cur.execute(query)\n",
    "data = cur.fetchall()\n",
    "data"
   ]
  },
  {
   "cell_type": "markdown",
   "id": "f3af5a80-4d31-4e63-8e18-24aed9b34d08",
   "metadata": {},
   "source": [
    "# Find the total sales per category."
   ]
  },
  {
   "cell_type": "code",
   "execution_count": 31,
   "id": "2bf55afa-b2bb-4969-913f-46030ae2ca15",
   "metadata": {},
   "outputs": [
    {
     "data": {
      "text/html": [
       "<div>\n",
       "<style scoped>\n",
       "    .dataframe tbody tr th:only-of-type {\n",
       "        vertical-align: middle;\n",
       "    }\n",
       "\n",
       "    .dataframe tbody tr th {\n",
       "        vertical-align: top;\n",
       "    }\n",
       "\n",
       "    .dataframe thead th {\n",
       "        text-align: right;\n",
       "    }\n",
       "</style>\n",
       "<table border=\"1\" class=\"dataframe\">\n",
       "  <thead>\n",
       "    <tr style=\"text-align: right;\">\n",
       "      <th></th>\n",
       "      <th>Category</th>\n",
       "      <th>Sales</th>\n",
       "    </tr>\n",
       "  </thead>\n",
       "  <tbody>\n",
       "    <tr>\n",
       "      <th>0</th>\n",
       "      <td>perfumery</td>\n",
       "      <td>506738.66</td>\n",
       "    </tr>\n",
       "    <tr>\n",
       "      <th>1</th>\n",
       "      <td>Furniture Decoration</td>\n",
       "      <td>1430176.39</td>\n",
       "    </tr>\n",
       "    <tr>\n",
       "      <th>2</th>\n",
       "      <td>telephony</td>\n",
       "      <td>486882.05</td>\n",
       "    </tr>\n",
       "    <tr>\n",
       "      <th>3</th>\n",
       "      <td>Fashion Bags and Accessories</td>\n",
       "      <td>218158.28</td>\n",
       "    </tr>\n",
       "    <tr>\n",
       "      <th>4</th>\n",
       "      <td>bed table bath</td>\n",
       "      <td>1712553.67</td>\n",
       "    </tr>\n",
       "    <tr>\n",
       "      <th>...</th>\n",
       "      <td>...</td>\n",
       "      <td>...</td>\n",
       "    </tr>\n",
       "    <tr>\n",
       "      <th>69</th>\n",
       "      <td>cds music dvds</td>\n",
       "      <td>1199.43</td>\n",
       "    </tr>\n",
       "    <tr>\n",
       "      <th>70</th>\n",
       "      <td>La Cuisine</td>\n",
       "      <td>2913.53</td>\n",
       "    </tr>\n",
       "    <tr>\n",
       "      <th>71</th>\n",
       "      <td>Fashion Children's Clothing</td>\n",
       "      <td>785.67</td>\n",
       "    </tr>\n",
       "    <tr>\n",
       "      <th>72</th>\n",
       "      <td>PC Gamer</td>\n",
       "      <td>2174.43</td>\n",
       "    </tr>\n",
       "    <tr>\n",
       "      <th>73</th>\n",
       "      <td>insurance and services</td>\n",
       "      <td>324.51</td>\n",
       "    </tr>\n",
       "  </tbody>\n",
       "</table>\n",
       "<p>74 rows × 2 columns</p>\n",
       "</div>"
      ],
      "text/plain": [
       "                        Category       Sales\n",
       "0                      perfumery   506738.66\n",
       "1           Furniture Decoration  1430176.39\n",
       "2                      telephony   486882.05\n",
       "3   Fashion Bags and Accessories   218158.28\n",
       "4                 bed table bath  1712553.67\n",
       "..                           ...         ...\n",
       "69                cds music dvds     1199.43\n",
       "70                    La Cuisine     2913.53\n",
       "71   Fashion Children's Clothing      785.67\n",
       "72                      PC Gamer     2174.43\n",
       "73        insurance and services      324.51\n",
       "\n",
       "[74 rows x 2 columns]"
      ]
     },
     "execution_count": 31,
     "metadata": {},
     "output_type": "execute_result"
    }
   ],
   "source": [
    "query = \"\"\"select products.product_category , round(sum(payments.payment_value),2) \n",
    "from products inner join orders_items \n",
    "on products.product_id = orders_items.product_id\n",
    "inner join payments on payments.order_id = orders_items.order_id\n",
    "group by products.product_category\"\"\"\n",
    "cur.execute(query)\n",
    "data = cur.fetchall()\n",
    "#data\n",
    "\n",
    "df = pd.DataFrame(data,columns= ['Category','Sales'])\n",
    "df\n"
   ]
  },
  {
   "cell_type": "markdown",
   "id": "cac4e8c0-8f1f-40c7-8802-4e39e44fa901",
   "metadata": {},
   "source": [
    "# Calculate the percentage of orders that were paid in installments."
   ]
  },
  {
   "cell_type": "code",
   "execution_count": 35,
   "id": "184f1132-a668-4c92-abd8-cf0fd2ed7dc6",
   "metadata": {},
   "outputs": [
    {
     "data": {
      "text/plain": [
       "[(Decimal('99.9981'),)]"
      ]
     },
     "execution_count": 35,
     "metadata": {},
     "output_type": "execute_result"
    }
   ],
   "source": [
    "query = \"\"\"select (sum(case when payment_installments >= 1 then 1 \n",
    "else 0 end))/count(*)*100 from payments\"\"\"\n",
    "cur.execute(query)\n",
    "data = cur.fetchall()\n",
    "data"
   ]
  },
  {
   "cell_type": "markdown",
   "id": "1093d7e0-4f93-42e6-aed6-8fc2e46c0987",
   "metadata": {},
   "source": [
    "# Count the number of customers from each state. "
   ]
  },
  {
   "cell_type": "code",
   "execution_count": 65,
   "id": "a1b0e6ac-c519-41b6-9d35-07737172d64c",
   "metadata": {},
   "outputs": [
    {
     "data": {
      "image/png": "[encoded data removed]",
      "text/plain": [
       "<Figure size 800x300 with 1 Axes>"
      ]
     },
     "metadata": {},
     "output_type": "display_data"
    }
   ],
   "source": [
    "query = \"\"\"select customer_state,count(customer_id) from customers group by customer_state\"\"\"\n",
    "cur.execute(query)\n",
    "data = cur.fetchall()\n",
    "#data\n",
    "\n",
    "df = pd.DataFrame(data,columns = ['State','Number of Customers'])\n",
    "df = df.sort_values(by = 'Number of Customers',ascending = False)\n",
    "#df\n",
    "plt.figure(figsize = (8,3))\n",
    "plt.bar(df['State'],df['Number of Customers'])\n",
    "plt.xticks(rotation = 90)\n",
    "plt.show()\n"
   ]
  },
  {
   "cell_type": "markdown",
   "id": "7d67df0a-5f1b-4c62-b2ad-90bbd4888a58",
   "metadata": {},
   "source": [
    "# Calculate the number of orders per month in 2018."
   ]
  },
  {
   "cell_type": "code",
   "execution_count": 79,
   "id": "7a596cde-32a2-4f20-9aea-08b726fad21d",
   "metadata": {},
   "outputs": [
    {
     "data": {
      "image/png": "[encoded data removed]",
      "text/plain": [
       "<Figure size 640x480 with 1 Axes>"
      ]
     },
     "metadata": {},
     "output_type": "display_data"
    }
   ],
   "source": [
    "query = \"\"\"select monthname(order_purchase_timestamp) months, count(order_id) order_count \n",
    "from orders where year(order_purchase_timestamp) = 2018\n",
    "group by months\"\"\"\n",
    "cur.execute(query)\n",
    "data = cur.fetchall()\n",
    "#data\n",
    "df = pd.DataFrame(data,columns = ['months','order_count'])\n",
    "o = [\"January\",\"February\",\"March\",\"April\",\"May\",\"June\",\"July\",\"August\",\"September\",\"October\",\"November\",\"December\"]\n",
    "ax = sns.barplot(x = df[\"months\"], y = df[\"order_count\"],data = df,order = o)\n",
    "plt.xticks(rotation = 90)\n",
    "ax.bar_label(ax.containers[0])\n",
    "plt.show()"
   ]
  },
  {
   "cell_type": "markdown",
   "id": "12bb6b63-3441-435d-a023-d6cfb0cf18ef",
   "metadata": {},
   "source": [
    "# Find the average number of products per order, grouped by customer city."
   ]
  },
  {
   "cell_type": "code",
   "execution_count": 83,
   "id": "04b52f03-ee34-45a7-afa2-213fa049d441",
   "metadata": {},
   "outputs": [
    {
     "data": {
      "text/html": [
       "<div>\n",
       "<style scoped>\n",
       "    .dataframe tbody tr th:only-of-type {\n",
       "        vertical-align: middle;\n",
       "    }\n",
       "\n",
       "    .dataframe tbody tr th {\n",
       "        vertical-align: top;\n",
       "    }\n",
       "\n",
       "    .dataframe thead th {\n",
       "        text-align: right;\n",
       "    }\n",
       "</style>\n",
       "<table border=\"1\" class=\"dataframe\">\n",
       "  <thead>\n",
       "    <tr style=\"text-align: right;\">\n",
       "      <th></th>\n",
       "      <th>0</th>\n",
       "      <th>1</th>\n",
       "    </tr>\n",
       "  </thead>\n",
       "  <tbody>\n",
       "    <tr>\n",
       "      <th>0</th>\n",
       "      <td>sao jose dos campos</td>\n",
       "      <td>1.14</td>\n",
       "    </tr>\n",
       "    <tr>\n",
       "      <th>1</th>\n",
       "      <td>indaial</td>\n",
       "      <td>1.12</td>\n",
       "    </tr>\n",
       "    <tr>\n",
       "      <th>2</th>\n",
       "      <td>treze tilias</td>\n",
       "      <td>1.27</td>\n",
       "    </tr>\n",
       "    <tr>\n",
       "      <th>3</th>\n",
       "      <td>sao paulo</td>\n",
       "      <td>1.16</td>\n",
       "    </tr>\n",
       "    <tr>\n",
       "      <th>4</th>\n",
       "      <td>rio de janeiro</td>\n",
       "      <td>1.15</td>\n",
       "    </tr>\n",
       "    <tr>\n",
       "      <th>...</th>\n",
       "      <td>...</td>\n",
       "      <td>...</td>\n",
       "    </tr>\n",
       "    <tr>\n",
       "      <th>4105</th>\n",
       "      <td>buriti</td>\n",
       "      <td>3.00</td>\n",
       "    </tr>\n",
       "    <tr>\n",
       "      <th>4106</th>\n",
       "      <td>morro agudo de goias</td>\n",
       "      <td>1.00</td>\n",
       "    </tr>\n",
       "    <tr>\n",
       "      <th>4107</th>\n",
       "      <td>santa filomena</td>\n",
       "      <td>1.00</td>\n",
       "    </tr>\n",
       "    <tr>\n",
       "      <th>4108</th>\n",
       "      <td>guamiranga</td>\n",
       "      <td>1.00</td>\n",
       "    </tr>\n",
       "    <tr>\n",
       "      <th>4109</th>\n",
       "      <td>padre paraiso</td>\n",
       "      <td>1.00</td>\n",
       "    </tr>\n",
       "  </tbody>\n",
       "</table>\n",
       "<p>4110 rows × 2 columns</p>\n",
       "</div>"
      ],
      "text/plain": [
       "                         0     1\n",
       "0      sao jose dos campos  1.14\n",
       "1                  indaial  1.12\n",
       "2             treze tilias  1.27\n",
       "3                sao paulo  1.16\n",
       "4           rio de janeiro  1.15\n",
       "...                    ...   ...\n",
       "4105                buriti  3.00\n",
       "4106  morro agudo de goias  1.00\n",
       "4107        santa filomena  1.00\n",
       "4108            guamiranga  1.00\n",
       "4109         padre paraiso  1.00\n",
       "\n",
       "[4110 rows x 2 columns]"
      ]
     },
     "execution_count": 83,
     "metadata": {},
     "output_type": "execute_result"
    }
   ],
   "source": [
    "query = \"\"\"with count_per_order as\n",
    "(select o.order_id,o.customer_id,count(oi.order_id) oc from orders o \n",
    "inner join orders_items oi on o.order_id = oi.order_id \n",
    "group by o.order_id, o.customer_id)\n",
    "\n",
    "select c.customer_city, round(avg(cpo.oc),2) average_orders from customers c inner join count_per_order cpo\n",
    "on c.customer_id = cpo.customer_id\n",
    "group by c.customer_city\"\"\"\n",
    "cur.execute(query)\n",
    "data = cur.fetchall()\n",
    "#data\n",
    "df = pd.DataFrame(data)\n",
    "df"
   ]
  },
  {
   "cell_type": "markdown",
   "id": "fbd8c8c6-90f3-4d4f-9b17-3034f0d76361",
   "metadata": {},
   "source": [
    "# Calculate the percentage of total revenue contributed by each product category.\n"
   ]
  },
  {
   "cell_type": "code",
   "execution_count": 87,
   "id": "79293183-7d7d-48ba-813d-20a4aae46809",
   "metadata": {},
   "outputs": [
    {
     "data": {
      "text/plain": [
       "[('BED TABLE BATH', 10.7),\n",
       " ('HEALTH BEAUTY', 10.35),\n",
       " ('COMPUTER ACCESSORIES', 9.9),\n",
       " ('FURNITURE DECORATION', 8.93),\n",
       " ('WATCHES PRESENT', 8.93),\n",
       " ('SPORT LEISURE', 8.7),\n",
       " ('HOUSEWARES', 6.84),\n",
       " ('AUTOMOTIVE', 5.32),\n",
       " ('GARDEN TOOLS', 5.24),\n",
       " ('COOL STUFF', 4.87),\n",
       " ('FURNITURE OFFICE', 4.04),\n",
       " ('TOYS', 3.87),\n",
       " ('BABIES', 3.37),\n",
       " ('PERFUMERY', 3.17),\n",
       " ('TELEPHONY', 3.04),\n",
       " ('STATIONARY STORE', 1.98),\n",
       " ('PET SHOP', 1.94),\n",
       " ('PCS', 1.74),\n",
       " ('ELECTRONICS', 1.62),\n",
       " (None, 1.58),\n",
       " ('CONSTRUCTION TOOLS CONSTRUCTION', 1.51),\n",
       " ('MUSICAL INSTRUMENTS', 1.46),\n",
       " ('ELECTROSTILE', 1.41),\n",
       " ('FASHION BAGS AND ACCESSORIES', 1.36),\n",
       " ('FIXED TELEPHONY', 1.29),\n",
       " ('GAMES CONSOLES', 1.22),\n",
       " ('BAGS ACCESSORIES', 1.17),\n",
       " ('CASA CONSTRUCAO', 0.85),\n",
       " ('ROOM FURNITURE', 0.85),\n",
       " ('ELECTRICES 2', 0.78),\n",
       " ('AGRO INDUSTRIA E COMERCIO', 0.74),\n",
       " ('HOME APPLIANCES', 0.6),\n",
       " ('CLIMATIZATION', 0.57),\n",
       " ('HOUSE COMFORT', 0.53),\n",
       " ('FURNITURE KITCHEN SERVICE AREA DINNER AND GARDEN', 0.47),\n",
       " ('DRINKS', 0.45),\n",
       " ('CONSTRUCTION TOOLS ILLUMINATION', 0.45),\n",
       " ('SIGNALIZATION AND SAFETY', 0.43),\n",
       " ('CONSTRUCTION SECURITY TOOLS', 0.41),\n",
       " ('GENERAL INTEREST BOOKS', 0.4),\n",
       " ('AUDIO', 0.38),\n",
       " ('INDUSTRY COMMERCE AND BUSINESS', 0.35),\n",
       " ('HOUSE PASTALS OVEN AND CAFE', 0.32),\n",
       " ('FOODS', 0.29),\n",
       " ('MARKET PLACE', 0.28),\n",
       " ('CONSTRUCTION TOOLS GARDEN', 0.26),\n",
       " ('FASHION CALCADOS', 0.2),\n",
       " ('FURNITURE', 0.2),\n",
       " ('ART', 0.19),\n",
       " ('DRINK FOODS', 0.17),\n",
       " ('TECHNICAL BOOKS', 0.16),\n",
       " ('CONSTRUCTION TOOLS TOOLS', 0.13),\n",
       " ('CHRISTMAS ARTICLES', 0.12),\n",
       " (\"FASHION MEN'S CLOTHING\", 0.11),\n",
       " ('FASHION UNDERWEAR AND BEACH FASHION', 0.08),\n",
       " ('IMAGE IMPORT TABLETS', 0.06),\n",
       " ('CINE PHOTO', 0.06),\n",
       " ('BLU RAY DVDS', 0.05),\n",
       " ('SONG', 0.04),\n",
       " ('IMPORTED BOOKS', 0.04),\n",
       " ('PARTY ARTICLES', 0.04),\n",
       " ('CITTE AND UPHACK FURNITURE', 0.04),\n",
       " (\"FASHION WOMEN'S CLOTHING\", 0.03),\n",
       " ('HYGIENE DIAPERS', 0.03),\n",
       " ('KITCHEN PORTABLE AND FOOD COACH', 0.03),\n",
       " ('FASHION SPORT', 0.02),\n",
       " ('LA CUISINE', 0.02),\n",
       " ('FLOWERS', 0.01),\n",
       " ('ARTS AND CRAFTS', 0.01),\n",
       " ('HOUSE COMFORT 2', 0.01),\n",
       " ('CDS MUSIC DVDS', 0.01),\n",
       " ('PC GAMER', 0.01),\n",
       " (\"FASHION CHILDREN'S CLOTHING\", 0.0),\n",
       " ('INSURANCE AND SERVICES', 0.0)]"
      ]
     },
     "execution_count": 87,
     "metadata": {},
     "output_type": "execute_result"
    }
   ],
   "source": [
    "query = \"\"\"select upper(products.product_category) category, round((sum(payments.payment_value) / (select sum(payment_value) from payments)) * 100,2) sales_percentage\n",
    "from products inner join orders_items \n",
    "on products.product_id = orders_items.product_id\n",
    "inner join payments on payments.order_id = orders_items.order_id\n",
    "group by products.product_category\n",
    "order by sales_percentage desc\"\"\"\n",
    "cur.execute(query)\n",
    "data = cur.fetchall()\n",
    "data\n"
   ]
  },
  {
   "cell_type": "markdown",
   "id": "313b8507-d6bf-42f2-aa4d-32ef164d3630",
   "metadata": {},
   "source": [
    "# Identify the correlation between product price and the number of times a product has been purchased."
   ]
  },
  {
   "cell_type": "code",
   "execution_count": 95,
   "id": "da07d2ff-2b28-4fef-b6e1-9c6244708089",
   "metadata": {},
   "outputs": [
    {
     "data": {
      "text/plain": [
       "array([[ 1.        , -0.10631514],\n",
       "       [-0.10631514,  1.        ]])"
      ]
     },
     "execution_count": 95,
     "metadata": {},
     "output_type": "execute_result"
    }
   ],
   "source": [
    "import numpy as np\n",
    "\n",
    "query = \"\"\"select p.product_category, count(oi.order_id), round(avg(price),2) from products p \n",
    "join orders_items oi on p.product_id = oi.product_id \n",
    "group by p.product_category\"\"\"\n",
    "\n",
    "cur.execute(query)\n",
    "\n",
    "data = cur.fetchall()\n",
    "#data\n",
    "df = pd.DataFrame(data,columns= ['Category','order_count','price'])\n",
    "df\n",
    "\n",
    "arr1 = df[\"order_count\"]\n",
    "arr2 = df[\"price\"]\n",
    "\n",
    "np.corrcoef([arr1,arr2])"
   ]
  },
  {
   "cell_type": "code",
   "execution_count": 93,
   "id": "a9c74afd-0575-47df-8789-11f0c584a93d",
   "metadata": {},
   "outputs": [
    {
     "name": "stdout",
     "output_type": "stream",
     "text": [
      "Requirement already satisfied: numpy in /opt/anaconda3/lib/python3.12/site-packages (1.26.4)\n",
      "Note: you may need to restart the kernel to use updated packages.\n"
     ]
    }
   ],
   "source": [
    "pip install numpy"
   ]
  },
  {
   "cell_type": "markdown",
   "id": "e65cf932-2af4-4c1c-8679-e7a9f4386718",
   "metadata": {},
   "source": [
    "# Calculate the total revenue generated by each seller, and rank them by revenue."
   ]
  },
  {
   "cell_type": "code",
   "execution_count": 158,
   "id": "c9623b08-10e8-485a-aefa-0ff815621792",
   "metadata": {},
   "outputs": [
    {
     "data": {
      "text/html": [
       "<div>\n",
       "<style scoped>\n",
       "    .dataframe tbody tr th:only-of-type {\n",
       "        vertical-align: middle;\n",
       "    }\n",
       "\n",
       "    .dataframe tbody tr th {\n",
       "        vertical-align: top;\n",
       "    }\n",
       "\n",
       "    .dataframe thead th {\n",
       "        text-align: right;\n",
       "    }\n",
       "</style>\n",
       "<table border=\"1\" class=\"dataframe\">\n",
       "  <thead>\n",
       "    <tr style=\"text-align: right;\">\n",
       "      <th></th>\n",
       "      <th>0</th>\n",
       "      <th>1</th>\n",
       "      <th>2</th>\n",
       "    </tr>\n",
       "  </thead>\n",
       "  <tbody>\n",
       "    <tr>\n",
       "      <th>0</th>\n",
       "      <td>7c67e1448b00f6e969d365cea6b010ab</td>\n",
       "      <td>507166.907302</td>\n",
       "      <td>1</td>\n",
       "    </tr>\n",
       "    <tr>\n",
       "      <th>1</th>\n",
       "      <td>1025f0e2d44d7041d6cf58b6550e0bfa</td>\n",
       "      <td>308222.039840</td>\n",
       "      <td>2</td>\n",
       "    </tr>\n",
       "    <tr>\n",
       "      <th>2</th>\n",
       "      <td>4a3ca9315b744ce9f8e9374361493884</td>\n",
       "      <td>301245.269765</td>\n",
       "      <td>3</td>\n",
       "    </tr>\n",
       "    <tr>\n",
       "      <th>3</th>\n",
       "      <td>1f50f920176fa81dab994f9023523100</td>\n",
       "      <td>290253.420128</td>\n",
       "      <td>4</td>\n",
       "    </tr>\n",
       "    <tr>\n",
       "      <th>4</th>\n",
       "      <td>53243585a1d6dc2643021fd1853d8905</td>\n",
       "      <td>284903.080498</td>\n",
       "      <td>5</td>\n",
       "    </tr>\n",
       "  </tbody>\n",
       "</table>\n",
       "</div>"
      ],
      "text/plain": [
       "                                  0              1  2\n",
       "0  7c67e1448b00f6e969d365cea6b010ab  507166.907302  1\n",
       "1  1025f0e2d44d7041d6cf58b6550e0bfa  308222.039840  2\n",
       "2  4a3ca9315b744ce9f8e9374361493884  301245.269765  3\n",
       "3  1f50f920176fa81dab994f9023523100  290253.420128  4\n",
       "4  53243585a1d6dc2643021fd1853d8905  284903.080498  5"
      ]
     },
     "execution_count": 158,
     "metadata": {},
     "output_type": "execute_result"
    }
   ],
   "source": [
    "query = \"\"\"select *, dense_rank() over(order by revenue desc) as rn from\n",
    "(select oi.seller_id, sum(p.payment_value) revenue from orders_items oi \n",
    "inner join payments p on oi.order_id = p.order_id\n",
    "group by oi.seller_id) as a\"\"\"\n",
    "\n",
    "cur.execute(query)\n",
    "\n",
    "data = cur.fetchall()\n",
    "#data\n",
    "df = pd.DataFrame(data)\n",
    "df.head()"
   ]
  },
  {
   "cell_type": "markdown",
   "id": "51266ba1-0332-4fb1-9084-5dce5dcb256b",
   "metadata": {},
   "source": [
    "# Calculate the moving average of order values for each customer over their order history."
   ]
  },
  {
   "cell_type": "code",
   "execution_count": 122,
   "id": "62289198-5eb2-4cc0-b3f3-2687f467aac9",
   "metadata": {},
   "outputs": [
    {
     "data": {
      "text/html": [
       "<div>\n",
       "<style scoped>\n",
       "    .dataframe tbody tr th:only-of-type {\n",
       "        vertical-align: middle;\n",
       "    }\n",
       "\n",
       "    .dataframe tbody tr th {\n",
       "        vertical-align: top;\n",
       "    }\n",
       "\n",
       "    .dataframe thead th {\n",
       "        text-align: right;\n",
       "    }\n",
       "</style>\n",
       "<table border=\"1\" class=\"dataframe\">\n",
       "  <thead>\n",
       "    <tr style=\"text-align: right;\">\n",
       "      <th></th>\n",
       "      <th>Customer_id</th>\n",
       "      <th>order_timestamp</th>\n",
       "      <th>price</th>\n",
       "      <th>mov_avg</th>\n",
       "    </tr>\n",
       "  </thead>\n",
       "  <tbody>\n",
       "    <tr>\n",
       "      <th>0</th>\n",
       "      <td>00012a2ce6f8dcda20d059ce98491703</td>\n",
       "      <td>2017-11-14 16:08:26</td>\n",
       "      <td>114.74</td>\n",
       "      <td>114.739998</td>\n",
       "    </tr>\n",
       "    <tr>\n",
       "      <th>1</th>\n",
       "      <td>000161a058600d5901f007fab4c27140</td>\n",
       "      <td>2017-07-16 09:40:32</td>\n",
       "      <td>67.41</td>\n",
       "      <td>67.410004</td>\n",
       "    </tr>\n",
       "    <tr>\n",
       "      <th>2</th>\n",
       "      <td>0001fd6190edaaf884bcaf3d49edf079</td>\n",
       "      <td>2017-02-28 11:06:43</td>\n",
       "      <td>195.42</td>\n",
       "      <td>195.419998</td>\n",
       "    </tr>\n",
       "    <tr>\n",
       "      <th>3</th>\n",
       "      <td>0002414f95344307404f0ace7a26f1d5</td>\n",
       "      <td>2017-08-16 13:09:20</td>\n",
       "      <td>179.35</td>\n",
       "      <td>179.350006</td>\n",
       "    </tr>\n",
       "    <tr>\n",
       "      <th>4</th>\n",
       "      <td>000379cdec625522490c315e70c7a9fb</td>\n",
       "      <td>2018-04-02 13:42:17</td>\n",
       "      <td>107.01</td>\n",
       "      <td>107.010002</td>\n",
       "    </tr>\n",
       "    <tr>\n",
       "      <th>...</th>\n",
       "      <td>...</td>\n",
       "      <td>...</td>\n",
       "      <td>...</td>\n",
       "      <td>...</td>\n",
       "    </tr>\n",
       "    <tr>\n",
       "      <th>103881</th>\n",
       "      <td>fffecc9f79fd8c764f843e9951b11341</td>\n",
       "      <td>2018-03-29 16:59:26</td>\n",
       "      <td>0.64</td>\n",
       "      <td>27.120001</td>\n",
       "    </tr>\n",
       "    <tr>\n",
       "      <th>103882</th>\n",
       "      <td>fffeda5b6d849fbd39689bb92087f431</td>\n",
       "      <td>2018-05-22 13:36:02</td>\n",
       "      <td>63.13</td>\n",
       "      <td>63.130001</td>\n",
       "    </tr>\n",
       "    <tr>\n",
       "      <th>103883</th>\n",
       "      <td>ffff42319e9b2d713724ae527742af25</td>\n",
       "      <td>2018-06-13 16:57:05</td>\n",
       "      <td>214.13</td>\n",
       "      <td>214.130005</td>\n",
       "    </tr>\n",
       "    <tr>\n",
       "      <th>103884</th>\n",
       "      <td>ffffa3172527f765de70084a7e53aae8</td>\n",
       "      <td>2017-09-02 11:53:32</td>\n",
       "      <td>45.50</td>\n",
       "      <td>45.500000</td>\n",
       "    </tr>\n",
       "    <tr>\n",
       "      <th>103885</th>\n",
       "      <td>ffffe8b65bbe3087b653a978c870db99</td>\n",
       "      <td>2017-09-29 14:07:03</td>\n",
       "      <td>18.37</td>\n",
       "      <td>18.370001</td>\n",
       "    </tr>\n",
       "  </tbody>\n",
       "</table>\n",
       "<p>103886 rows × 4 columns</p>\n",
       "</div>"
      ],
      "text/plain": [
       "                             Customer_id      order_timestamp   price  \\\n",
       "0       00012a2ce6f8dcda20d059ce98491703  2017-11-14 16:08:26  114.74   \n",
       "1       000161a058600d5901f007fab4c27140  2017-07-16 09:40:32   67.41   \n",
       "2       0001fd6190edaaf884bcaf3d49edf079  2017-02-28 11:06:43  195.42   \n",
       "3       0002414f95344307404f0ace7a26f1d5  2017-08-16 13:09:20  179.35   \n",
       "4       000379cdec625522490c315e70c7a9fb  2018-04-02 13:42:17  107.01   \n",
       "...                                  ...                  ...     ...   \n",
       "103881  fffecc9f79fd8c764f843e9951b11341  2018-03-29 16:59:26    0.64   \n",
       "103882  fffeda5b6d849fbd39689bb92087f431  2018-05-22 13:36:02   63.13   \n",
       "103883  ffff42319e9b2d713724ae527742af25  2018-06-13 16:57:05  214.13   \n",
       "103884  ffffa3172527f765de70084a7e53aae8  2017-09-02 11:53:32   45.50   \n",
       "103885  ffffe8b65bbe3087b653a978c870db99  2017-09-29 14:07:03   18.37   \n",
       "\n",
       "           mov_avg  \n",
       "0       114.739998  \n",
       "1        67.410004  \n",
       "2       195.419998  \n",
       "3       179.350006  \n",
       "4       107.010002  \n",
       "...            ...  \n",
       "103881   27.120001  \n",
       "103882   63.130001  \n",
       "103883  214.130005  \n",
       "103884   45.500000  \n",
       "103885   18.370001  \n",
       "\n",
       "[103886 rows x 4 columns]"
      ]
     },
     "execution_count": 122,
     "metadata": {},
     "output_type": "execute_result"
    }
   ],
   "source": [
    "query = \"\"\"select customer_id, order_purchase_timestamp,payment_value,avg(payment_value)\n",
    "over(partition by customer_id order by order_purchase_timestamp\n",
    "rows between 2 preceding and current row) as mov_avg\n",
    "from\n",
    "(select o.customer_id,o.order_purchase_timestamp,p.payment_value from orders o \n",
    "inner join payments p on o.order_id = p.order_id) as a;\"\"\"\n",
    "\n",
    "cur.execute(query)\n",
    "\n",
    "data = cur.fetchall()\n",
    "#data\n",
    "df = pd.DataFrame(data,columns= ['Customer_id','order_timestamp','price','mov_avg'])\n",
    "df"
   ]
  },
  {
   "cell_type": "markdown",
   "id": "085ab4fe-6dc6-4072-93f7-e3cf5863aa71",
   "metadata": {},
   "source": [
    "# Calculate the cumulative sales per month for each year."
   ]
  },
  {
   "cell_type": "code",
   "execution_count": 125,
   "id": "85e50cb6-2fb8-48bf-a1b4-00cd1505e5d0",
   "metadata": {},
   "outputs": [
    {
     "data": {
      "text/plain": [
       "[(2016, 9, 252.24, 252.24),\n",
       " (2016, 10, 59090.48, 59342.72),\n",
       " (2016, 12, 19.62, 59362.340000000004),\n",
       " (2017, 1, 138488.04, 197850.38),\n",
       " (2017, 2, 291908.01, 489758.39),\n",
       " (2017, 3, 449863.6, 939621.99),\n",
       " (2017, 4, 417788.03, 1357410.02),\n",
       " (2017, 5, 592918.82, 1950328.8399999999),\n",
       " (2017, 6, 511276.38, 2461605.2199999997),\n",
       " (2017, 7, 592382.92, 3053988.1399999997),\n",
       " (2017, 8, 674396.32, 3728384.4599999995),\n",
       " (2017, 9, 727762.45, 4456146.909999999),\n",
       " (2017, 10, 779677.88, 5235824.789999999),\n",
       " (2017, 11, 1194882.8, 6430707.589999999),\n",
       " (2017, 12, 878401.48, 7309109.069999998),\n",
       " (2018, 1, 1115004.18, 8424113.249999998),\n",
       " (2018, 2, 992463.34, 9416576.589999998),\n",
       " (2018, 3, 1159652.12, 10576228.709999997),\n",
       " (2018, 4, 1160785.48, 11737014.189999998),\n",
       " (2018, 5, 1153982.15, 12890996.339999998),\n",
       " (2018, 6, 1023880.5, 13914876.839999998),\n",
       " (2018, 7, 1066540.75, 14981417.589999998),\n",
       " (2018, 8, 1022425.32, 16003842.909999998),\n",
       " (2018, 9, 4439.54, 16008282.449999997),\n",
       " (2018, 10, 589.67, 16008872.119999997)]"
      ]
     },
     "execution_count": 125,
     "metadata": {},
     "output_type": "execute_result"
    }
   ],
   "source": [
    "query = \"\"\"select years,months, payment,sum(payment) over(order by years, months) as cummulative_sales\n",
    "from\n",
    "(select year(o.order_purchase_timestamp) as years,\n",
    "month(o.order_purchase_timestamp) as months,round(sum(p.payment_value),2) as payment\n",
    " from orders o inner join payments p \n",
    " on o.order_id = p.order_id\n",
    " group by years,months\n",
    " order by years,months) as a;\"\"\"\n",
    "\n",
    "cur.execute(query)\n",
    "\n",
    "data = cur.fetchall()\n",
    "data"
   ]
  },
  {
   "cell_type": "markdown",
   "id": "40850251-f97c-4d37-a691-7d930a0049ac",
   "metadata": {},
   "source": [
    "# Calculate the year-over-year growth rate of total sales."
   ]
  },
  {
   "cell_type": "code",
   "execution_count": 136,
   "id": "d22011ec-48ed-401d-b012-66a634b0d7d2",
   "metadata": {},
   "outputs": [
    {
     "data": {
      "text/html": [
       "<div>\n",
       "<style scoped>\n",
       "    .dataframe tbody tr th:only-of-type {\n",
       "        vertical-align: middle;\n",
       "    }\n",
       "\n",
       "    .dataframe tbody tr th {\n",
       "        vertical-align: top;\n",
       "    }\n",
       "\n",
       "    .dataframe thead th {\n",
       "        text-align: right;\n",
       "    }\n",
       "</style>\n",
       "<table border=\"1\" class=\"dataframe\">\n",
       "  <thead>\n",
       "    <tr style=\"text-align: right;\">\n",
       "      <th></th>\n",
       "      <th>Year</th>\n",
       "      <th>yoy</th>\n",
       "    </tr>\n",
       "  </thead>\n",
       "  <tbody>\n",
       "    <tr>\n",
       "      <th>0</th>\n",
       "      <td>2016</td>\n",
       "      <td>NaN</td>\n",
       "    </tr>\n",
       "    <tr>\n",
       "      <th>1</th>\n",
       "      <td>2017</td>\n",
       "      <td>12112.703761</td>\n",
       "    </tr>\n",
       "    <tr>\n",
       "      <th>2</th>\n",
       "      <td>2018</td>\n",
       "      <td>20.000924</td>\n",
       "    </tr>\n",
       "  </tbody>\n",
       "</table>\n",
       "</div>"
      ],
      "text/plain": [
       "   Year           yoy\n",
       "0  2016           NaN\n",
       "1  2017  12112.703761\n",
       "2  2018     20.000924"
      ]
     },
     "execution_count": 136,
     "metadata": {},
     "output_type": "execute_result"
    }
   ],
   "source": [
    "query = \"\"\"with a as(select year(o.order_purchase_timestamp) as years,round(sum(p.payment_value),2) as payment\n",
    " from orders o inner join payments p \n",
    " on o.order_id = p.order_id\n",
    " group by years\n",
    " order by years)\n",
    "\n",
    " select years,((payment - lag(payment, 1) over(order by years))/ lag(payment, 1) over(order by years)) * 100 from a\n",
    " \"\"\"\n",
    "\n",
    "cur.execute(query)\n",
    "\n",
    "data = cur.fetchall()\n",
    "#data\n",
    "df = pd.DataFrame(data,columns= ['Year','yoy % growth'])\n",
    "df\n"
   ]
  },
  {
   "cell_type": "markdown",
   "id": "2e875b19-9106-4df1-8506-81aa49567f06",
   "metadata": {},
   "source": [
    "# Calculate the retention rate of customers, defined as the percentage of customers who make another purchase within 6 months of their first purchase."
   ]
  },
  {
   "cell_type": "code",
   "execution_count": 139,
   "id": "148725fd-d1be-46e2-ae55-63a605774edc",
   "metadata": {},
   "outputs": [
    {
     "data": {
      "text/plain": [
       "[(None,)]"
      ]
     },
     "execution_count": 139,
     "metadata": {},
     "output_type": "execute_result"
    }
   ],
   "source": [
    "query = \"\"\"with a as(select c.customer_id, min(o.order_purchase_timestamp) first_order\n",
    "from customers c inner join orders o \n",
    "on c.customer_id = o.customer_id\n",
    "group by c.customer_id),\n",
    "\n",
    "b as (select a.customer_id, count(distinct o.order_purchase_timestamp)\n",
    "from a join orders o on a.customer_id = o.customer_id\n",
    "and o.order_purchase_timestamp > a.first_order\n",
    "and o.order_purchase_timestamp < date_add(first_order, interval 6 month)\n",
    "group by a.customer_id)\n",
    "\n",
    "select 100 * ((count( distinct a.customer_id))/(count( distinct b.customer_id)))\n",
    "from a left join b on a.customer_id = b.customer_id\n",
    ";\"\"\"\n",
    "\n",
    "cur.execute(query)\n",
    "\n",
    "data = cur.fetchall()\n",
    "data\n",
    "# Since none of the customers are repeated so null value is coming"
   ]
  },
  {
   "cell_type": "markdown",
   "id": "450248d8-df85-4cdd-8ca3-67ccc1fda8c7",
   "metadata": {},
   "source": [
    "# Identify the top 3 customers who spent the most money in each year."
   ]
  },
  {
   "cell_type": "code",
   "execution_count": 156,
   "id": "faa074da-e182-4756-9f7c-22d095c4d4e3",
   "metadata": {},
   "outputs": [
    {
     "data": {
      "image/png": "[encoded data removed]",
      "text/plain": [
       "<Figure size 640x480 with 1 Axes>"
      ]
     },
     "metadata": {},
     "output_type": "display_data"
    }
   ],
   "source": [
    "query = \"\"\"select years, customer_id,payment,_rank\n",
    "from\n",
    "(select year(o.order_purchase_timestamp) years,o.customer_id, sum(p.payment_value) payment,\n",
    "dense_rank()over(partition by year(o.order_purchase_timestamp)\n",
    "order by sum(p.payment_value)desc) _rank\n",
    " from orders o \n",
    "inner join payments p on o.order_id = p.order_id\n",
    "group by year(o.order_purchase_timestamp),o.customer_id) as a\n",
    "where _rank <= 3;\n",
    "\"\"\"\n",
    "\n",
    "cur.execute(query)\n",
    "\n",
    "data = cur.fetchall()\n",
    "\n",
    "#data\n",
    "\n",
    "df = pd.DataFrame(data,columns = ['year','customer_id','payment','rank'])\n",
    "#df\n",
    "sns.barplot(x = 'customer_id',y='payment',data= df, hue = 'year')\n",
    "plt.xticks(rotation = 90)\n",
    "plt.show()"
   ]
  },
  {
   "cell_type": "code",
   "execution_count": null,
   "id": "69ffea35-75a6-48bc-b7d8-083ef3c184e9",
   "metadata": {},
   "outputs": [],
   "source": []
  }
 ],
 "metadata": {
  "kernelspec": {
   "display_name": "Python [conda env:base] *",
   "language": "python",
   "name": "conda-base-py"
  },
  "language_info": {
   "codemirror_mode": {
    "name": "ipython",
    "version": 3
   },
   "file_extension": ".py",
   "mimetype": "text/x-python",
   "name": "python",
   "nbconvert_exporter": "python",
   "pygments_lexer": "ipython3",
   "version": "3.12.7"
  }
 },
 "nbformat": 4,
 "nbformat_minor": 5
}
